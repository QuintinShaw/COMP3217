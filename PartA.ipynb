{
 "cells": [
  {
   "cell_type": "code",
   "execution_count": 1,
   "id": "272bd44c",
   "metadata": {},
   "outputs": [],
   "source": [
    "import pandas as pd\n",
    "import numpy as np\n",
    "import matplotlib.pyplot as plt\n",
    "from sklearn import preprocessing\n",
    "from sklearn.decomposition import PCA\n",
    "from sklearn.model_selection import train_test_split, GridSearchCV\n",
    "from sklearn.ensemble import RandomForestClassifier\n",
    "from sklearn.metrics import confusion_matrix, ConfusionMatrixDisplay\n",
    "from sklearn.metrics import f1_score, precision_score, recall_score, accuracy_score\n",
    "from sklearn.pipeline import Pipeline\n",
    "import random\n"
   ]
  },
  {
   "cell_type": "code",
   "execution_count": null,
   "id": "7e5162ef",
   "metadata": {},
   "outputs": [],
   "source": [
    "df_train = pd.read_csv('TrainingDataBinary.csv', header=None)\n",
    "df_test = pd.read_csv('TestingDataBinary.csv', header=None)\n",
    "\n",
    "\n",
    "train_data = df_train.values \n",
    "random.shuffle(train_data) \n",
    "features = train_data[:,0:-1] \n",
    "labels = train_data[:,-1] \n",
    "test_data = df_test.values\n",
    "features_test = test_data \n",
    "features_train, features_valid, labels_train, labels_valid = train_test_split(features, labels, test_size=0.2, random_state=50)\n",
    "\n",
    "\n",
    "\n",
    "pipeline = Pipeline([('pca', PCA(n_components=30, random_state=42)),\n",
    "                     ('rf', RandomForestClassifier(random_state=42))])\n",
    "param_grid_rf = {\n",
    "    'rf__n_estimators': [500, 1000, 1500],\n",
    "    'rf__min_samples_leaf': [1, 2, 3],\n",
    "}\n",
    "\n",
    "\n",
    "grid_search = GridSearchCV(pipeline, param_grid=param_grid_rf, cv=5, n_jobs=-1)\n",
    "grid_search.fit(features_train, labels_train)\n",
    "print(\"Best parameters: {}\".format(grid_search.best_params_))"
   ]
  },
  {
   "cell_type": "code",
   "execution_count": null,
   "id": "d5464dd9",
   "metadata": {},
   "outputs": [],
   "source": []
  }
 ],
 "metadata": {
  "kernelspec": {
   "display_name": "Python 3 (ipykernel)",
   "language": "python",
   "name": "python3"
  },
  "language_info": {
   "codemirror_mode": {
    "name": "ipython",
    "version": 3
   },
   "file_extension": ".py",
   "mimetype": "text/x-python",
   "name": "python",
   "nbconvert_exporter": "python",
   "pygments_lexer": "ipython3",
   "version": "3.10.11"
  }
 },
 "nbformat": 4,
 "nbformat_minor": 5
}
