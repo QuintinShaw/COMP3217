{
 "cells": [
  {
   "cell_type": "markdown",
   "id": "65dbb950",
   "metadata": {},
   "source": [
    "# COMP3217 Coursework 2"
   ]
  },
  {
   "cell_type": "markdown",
   "id": "ca49afe9",
   "metadata": {},
   "source": [
    "## Import necessary libraries"
   ]
  },
  {
   "cell_type": "markdown",
   "id": "4c9bd734",
   "metadata": {},
   "source": [
    "Import necessary libraries\n",
    "We will be using pandas for data manipulation, numpy for mathematical operations, matplotlib for plotting, sklearn for machine learning, and random for shuffling data"
   ]
  },
  {
   "cell_type": "code",
   "execution_count": 1,
   "id": "623e9aee",
   "metadata": {},
   "outputs": [],
   "source": [
    "import pandas as pd\n",
    "import numpy as np\n",
    "import matplotlib.pyplot as plt\n",
    "from sklearn import preprocessing\n",
    "from sklearn.decomposition import PCA\n",
    "from sklearn.model_selection import train_test_split, GridSearchCV\n",
    "from sklearn.ensemble import RandomForestClassifier\n",
    "from sklearn.metrics import confusion_matrix, ConfusionMatrixDisplay\n",
    "from sklearn.metrics import f1_score, precision_score, recall_score, accuracy_score\n",
    "from sklearn.pipeline import Pipeline\n",
    "import random\n"
   ]
  },
  {
   "cell_type": "markdown",
   "id": "ddd9e8cf",
   "metadata": {},
   "source": [
    "## Task A"
   ]
  },
  {
   "cell_type": "markdown",
   "id": "7ec02381",
   "metadata": {},
   "source": [
    "### Part 1: Data preprocessing\n",
    "We will load the data, split it into features and labels, and shuffle it to ensure randomness"
   ]
  },
  {
   "cell_type": "code",
   "execution_count": 2,
   "id": "e1d8a10b",
   "metadata": {
    "scrolled": false
   },
   "outputs": [],
   "source": [
    "# Load the data\n",
    "df_train = pd.read_csv('TrainingDataBinary.csv', header=None)\n",
    "df_test = pd.read_csv('TestingDataBinary.csv', header=None)\n"
   ]
  },
  {
   "cell_type": "code",
   "execution_count": 3,
   "id": "057f21fc",
   "metadata": {},
   "outputs": [],
   "source": [
    "# Split the data into features and labels\n",
    "train_data = df_train.values \n",
    "random.shuffle(train_data) \n",
    "features = train_data[:,0:-1] \n",
    "labels = train_data[:,-1] \n",
    "test_data = df_test.values\n",
    "features_test = test_data \n"
   ]
  },
  {
   "cell_type": "code",
   "execution_count": 4,
   "id": "d4df9f45",
   "metadata": {},
   "outputs": [],
   "source": [
    "# Split the data into a training set and a testing set\n",
    "features_train, features_valid, labels_train, labels_valid = train_test_split(features, labels, test_size=0.2, random_state=50)\n"
   ]
  },
  {
   "cell_type": "markdown",
   "id": "60ea81bd",
   "metadata": {},
   "source": [
    "### Part 2: Model creation and parameter optimization\n",
    "We will create a pipeline that includes PCA and a random forest classifier, and use GridSearchCV to find the best parameters for the random forest\n"
   ]
  },
  {
   "cell_type": "code",
   "execution_count": 5,
   "id": "78354d3b",
   "metadata": {},
   "outputs": [],
   "source": [
    "# Create a pipeline with PCA and a random forest classifier\n",
    "pipeline = Pipeline([('pca', PCA(n_components=30, random_state=42)),\n",
    "                     ('rf', RandomForestClassifier(random_state=42))])\n"
   ]
  },
  {
   "cell_type": "code",
   "execution_count": 6,
   "id": "8ce8efe1",
   "metadata": {},
   "outputs": [],
   "source": [
    "# Define the parameter grid for the random forest\n",
    "param_grid_rf = {\n",
    "    'rf__n_estimators': [500, 1000, 1500],\n",
    "    'rf__min_samples_leaf': [1, 2, 3],\n",
    "}\n"
   ]
  },
  {
   "cell_type": "code",
   "execution_count": 7,
   "id": "d4db431e",
   "metadata": {},
   "outputs": [
    {
     "data": {
      "text/html": [
       "<style>#sk-container-id-1 {color: black;background-color: white;}#sk-container-id-1 pre{padding: 0;}#sk-container-id-1 div.sk-toggleable {background-color: white;}#sk-container-id-1 label.sk-toggleable__label {cursor: pointer;display: block;width: 100%;margin-bottom: 0;padding: 0.3em;box-sizing: border-box;text-align: center;}#sk-container-id-1 label.sk-toggleable__label-arrow:before {content: \"▸\";float: left;margin-right: 0.25em;color: #696969;}#sk-container-id-1 label.sk-toggleable__label-arrow:hover:before {color: black;}#sk-container-id-1 div.sk-estimator:hover label.sk-toggleable__label-arrow:before {color: black;}#sk-container-id-1 div.sk-toggleable__content {max-height: 0;max-width: 0;overflow: hidden;text-align: left;background-color: #f0f8ff;}#sk-container-id-1 div.sk-toggleable__content pre {margin: 0.2em;color: black;border-radius: 0.25em;background-color: #f0f8ff;}#sk-container-id-1 input.sk-toggleable__control:checked~div.sk-toggleable__content {max-height: 200px;max-width: 100%;overflow: auto;}#sk-container-id-1 input.sk-toggleable__control:checked~label.sk-toggleable__label-arrow:before {content: \"▾\";}#sk-container-id-1 div.sk-estimator input.sk-toggleable__control:checked~label.sk-toggleable__label {background-color: #d4ebff;}#sk-container-id-1 div.sk-label input.sk-toggleable__control:checked~label.sk-toggleable__label {background-color: #d4ebff;}#sk-container-id-1 input.sk-hidden--visually {border: 0;clip: rect(1px 1px 1px 1px);clip: rect(1px, 1px, 1px, 1px);height: 1px;margin: -1px;overflow: hidden;padding: 0;position: absolute;width: 1px;}#sk-container-id-1 div.sk-estimator {font-family: monospace;background-color: #f0f8ff;border: 1px dotted black;border-radius: 0.25em;box-sizing: border-box;margin-bottom: 0.5em;}#sk-container-id-1 div.sk-estimator:hover {background-color: #d4ebff;}#sk-container-id-1 div.sk-parallel-item::after {content: \"\";width: 100%;border-bottom: 1px solid gray;flex-grow: 1;}#sk-container-id-1 div.sk-label:hover label.sk-toggleable__label {background-color: #d4ebff;}#sk-container-id-1 div.sk-serial::before {content: \"\";position: absolute;border-left: 1px solid gray;box-sizing: border-box;top: 0;bottom: 0;left: 50%;z-index: 0;}#sk-container-id-1 div.sk-serial {display: flex;flex-direction: column;align-items: center;background-color: white;padding-right: 0.2em;padding-left: 0.2em;position: relative;}#sk-container-id-1 div.sk-item {position: relative;z-index: 1;}#sk-container-id-1 div.sk-parallel {display: flex;align-items: stretch;justify-content: center;background-color: white;position: relative;}#sk-container-id-1 div.sk-item::before, #sk-container-id-1 div.sk-parallel-item::before {content: \"\";position: absolute;border-left: 1px solid gray;box-sizing: border-box;top: 0;bottom: 0;left: 50%;z-index: -1;}#sk-container-id-1 div.sk-parallel-item {display: flex;flex-direction: column;z-index: 1;position: relative;background-color: white;}#sk-container-id-1 div.sk-parallel-item:first-child::after {align-self: flex-end;width: 50%;}#sk-container-id-1 div.sk-parallel-item:last-child::after {align-self: flex-start;width: 50%;}#sk-container-id-1 div.sk-parallel-item:only-child::after {width: 0;}#sk-container-id-1 div.sk-dashed-wrapped {border: 1px dashed gray;margin: 0 0.4em 0.5em 0.4em;box-sizing: border-box;padding-bottom: 0.4em;background-color: white;}#sk-container-id-1 div.sk-label label {font-family: monospace;font-weight: bold;display: inline-block;line-height: 1.2em;}#sk-container-id-1 div.sk-label-container {text-align: center;}#sk-container-id-1 div.sk-container {/* jupyter's `normalize.less` sets `[hidden] { display: none; }` but bootstrap.min.css set `[hidden] { display: none !important; }` so we also need the `!important` here to be able to override the default hidden behavior on the sphinx rendered scikit-learn.org. See: https://github.com/scikit-learn/scikit-learn/issues/21755 */display: inline-block !important;position: relative;}#sk-container-id-1 div.sk-text-repr-fallback {display: none;}</style><div id=\"sk-container-id-1\" class=\"sk-top-container\"><div class=\"sk-text-repr-fallback\"><pre>GridSearchCV(cv=5,\n",
       "             estimator=Pipeline(steps=[(&#x27;pca&#x27;,\n",
       "                                        PCA(n_components=30, random_state=42)),\n",
       "                                       (&#x27;rf&#x27;,\n",
       "                                        RandomForestClassifier(random_state=42))]),\n",
       "             n_jobs=-1,\n",
       "             param_grid={&#x27;rf__min_samples_leaf&#x27;: [1, 2, 3],\n",
       "                         &#x27;rf__n_estimators&#x27;: [500, 1000, 1500]})</pre><b>In a Jupyter environment, please rerun this cell to show the HTML representation or trust the notebook. <br />On GitHub, the HTML representation is unable to render, please try loading this page with nbviewer.org.</b></div><div class=\"sk-container\" hidden><div class=\"sk-item sk-dashed-wrapped\"><div class=\"sk-label-container\"><div class=\"sk-label sk-toggleable\"><input class=\"sk-toggleable__control sk-hidden--visually\" id=\"sk-estimator-id-1\" type=\"checkbox\" ><label for=\"sk-estimator-id-1\" class=\"sk-toggleable__label sk-toggleable__label-arrow\">GridSearchCV</label><div class=\"sk-toggleable__content\"><pre>GridSearchCV(cv=5,\n",
       "             estimator=Pipeline(steps=[(&#x27;pca&#x27;,\n",
       "                                        PCA(n_components=30, random_state=42)),\n",
       "                                       (&#x27;rf&#x27;,\n",
       "                                        RandomForestClassifier(random_state=42))]),\n",
       "             n_jobs=-1,\n",
       "             param_grid={&#x27;rf__min_samples_leaf&#x27;: [1, 2, 3],\n",
       "                         &#x27;rf__n_estimators&#x27;: [500, 1000, 1500]})</pre></div></div></div><div class=\"sk-parallel\"><div class=\"sk-parallel-item\"><div class=\"sk-item\"><div class=\"sk-label-container\"><div class=\"sk-label sk-toggleable\"><input class=\"sk-toggleable__control sk-hidden--visually\" id=\"sk-estimator-id-2\" type=\"checkbox\" ><label for=\"sk-estimator-id-2\" class=\"sk-toggleable__label sk-toggleable__label-arrow\">estimator: Pipeline</label><div class=\"sk-toggleable__content\"><pre>Pipeline(steps=[(&#x27;pca&#x27;, PCA(n_components=30, random_state=42)),\n",
       "                (&#x27;rf&#x27;, RandomForestClassifier(random_state=42))])</pre></div></div></div><div class=\"sk-serial\"><div class=\"sk-item\"><div class=\"sk-serial\"><div class=\"sk-item\"><div class=\"sk-estimator sk-toggleable\"><input class=\"sk-toggleable__control sk-hidden--visually\" id=\"sk-estimator-id-3\" type=\"checkbox\" ><label for=\"sk-estimator-id-3\" class=\"sk-toggleable__label sk-toggleable__label-arrow\">PCA</label><div class=\"sk-toggleable__content\"><pre>PCA(n_components=30, random_state=42)</pre></div></div></div><div class=\"sk-item\"><div class=\"sk-estimator sk-toggleable\"><input class=\"sk-toggleable__control sk-hidden--visually\" id=\"sk-estimator-id-4\" type=\"checkbox\" ><label for=\"sk-estimator-id-4\" class=\"sk-toggleable__label sk-toggleable__label-arrow\">RandomForestClassifier</label><div class=\"sk-toggleable__content\"><pre>RandomForestClassifier(random_state=42)</pre></div></div></div></div></div></div></div></div></div></div></div></div>"
      ],
      "text/plain": [
       "GridSearchCV(cv=5,\n",
       "             estimator=Pipeline(steps=[('pca',\n",
       "                                        PCA(n_components=30, random_state=42)),\n",
       "                                       ('rf',\n",
       "                                        RandomForestClassifier(random_state=42))]),\n",
       "             n_jobs=-1,\n",
       "             param_grid={'rf__min_samples_leaf': [1, 2, 3],\n",
       "                         'rf__n_estimators': [500, 1000, 1500]})"
      ]
     },
     "execution_count": 7,
     "metadata": {},
     "output_type": "execute_result"
    }
   ],
   "source": [
    "# Use GridSearchCV to find the best parameters\n",
    "grid_search = GridSearchCV(pipeline, param_grid=param_grid_rf, cv=5, n_jobs=-1)\n",
    "grid_search.fit(features_train, labels_train)\n"
   ]
  },
  {
   "cell_type": "code",
   "execution_count": 8,
   "id": "e3e0d26a",
   "metadata": {},
   "outputs": [
    {
     "name": "stdout",
     "output_type": "stream",
     "text": [
      "Best parameters: {'rf__min_samples_leaf': 1, 'rf__n_estimators': 1000}\n"
     ]
    }
   ],
   "source": [
    "# Print the best parameters\n",
    "print(\"Best parameters: {}\".format(grid_search.best_params_))\n"
   ]
  },
  {
   "cell_type": "markdown",
   "id": "a46e8cac",
   "metadata": {},
   "source": [
    "### Part 3: Model evaluation\n",
    "We will evaluate the model on the validation set and print the scores\n"
   ]
  },
  {
   "cell_type": "code",
   "execution_count": 9,
   "id": "8426ec3d",
   "metadata": {},
   "outputs": [
    {
     "name": "stdout",
     "output_type": "stream",
     "text": [
      "Validation set score: 0.99\n"
     ]
    }
   ],
   "source": [
    "# Print the score of the best model on the validation set\n",
    "print(\"Validation set score: {:.2f}\".format(grid_search.score(features_valid, labels_valid)))\n"
   ]
  },
  {
   "cell_type": "code",
   "execution_count": 10,
   "id": "2124b78b",
   "metadata": {},
   "outputs": [
    {
     "name": "stdout",
     "output_type": "stream",
     "text": [
      "Precision: 0.99\n",
      "Recall: 0.99\n",
      "F1-Score: 0.99\n",
      "Accuracy: 0.99\n"
     ]
    }
   ],
   "source": [
    "# Make predictions on the validation set and calculate the precision, recall, f1-score, and accuracy\n",
    "labels_pred = grid_search.predict(features_valid)\n",
    "print (\"Precision: {:.2f}\".format(precision_score(labels_valid, labels_pred, average='macro')))\n",
    "print (\"Recall: {:.2f}\".format(recall_score(labels_valid, labels_pred, average='macro')))\n",
    "print (\"F1-Score: {:.2f}\".format(f1_score(labels_valid, labels_pred, average='macro')))\n",
    "print (\"Accuracy: {:.2f}\".format(accuracy_score(labels_valid, labels_pred)))\n"
   ]
  },
  {
   "cell_type": "code",
   "execution_count": 11,
   "id": "52101def",
   "metadata": {},
   "outputs": [
    {
     "data": {
      "image/png": "[encoded data removed]",
      "text/plain": [
       "<Figure size 640x480 with 2 Axes>"
      ]
     },
     "metadata": {},
     "output_type": "display_data"
    }
   ],
   "source": [
    "# Plot the confusion matrix\n",
    "cm = confusion_matrix(labels_valid, labels_pred, labels=grid_search.classes_)\n",
    "disp = ConfusionMatrixDisplay(confusion_matrix=cm,display_labels=grid_search.classes_)\n",
    "disp.plot()\n",
    "plt.show()\n"
   ]
  },
  {
   "cell_type": "markdown",
   "id": "ecb2acfe",
   "metadata": {},
   "source": [
    "### Part 4: Predictions and result saving\n",
    "We will use the best model to make predictions on the test set, add the predictions to the test data, and save the data as a csv file\n"
   ]
  },
  {
   "cell_type": "code",
   "execution_count": 12,
   "id": "212d134f",
   "metadata": {},
   "outputs": [
    {
     "data": {
      "text/plain": [
       "array([1., 1., 1., 1., 1., 1., 1., 1., 1., 1., 1., 1., 1., 1., 1., 1., 1.,\n",
       "       1., 1., 1., 1., 1., 1., 1., 1., 1., 1., 1., 1., 1., 1., 0., 0., 1.,\n",
       "       0., 0., 0., 0., 0., 1., 1., 1., 1., 1., 1., 1., 1., 1., 1., 1., 0.,\n",
       "       0., 0., 0., 0., 0., 0., 0., 0., 0., 0., 0., 0., 0., 0., 0., 1., 0.,\n",
       "       1., 1., 1., 1., 1., 1., 1., 0., 0., 0., 0., 0., 0., 0., 0., 0., 0.,\n",
       "       0., 0., 0., 0., 0., 0., 0., 0., 0., 0., 1., 1., 1., 1., 1.])"
      ]
     },
     "execution_count": 12,
     "metadata": {},
     "output_type": "execute_result"
    }
   ],
   "source": [
    "# Make predictions on the test set\n",
    "test_predictions = grid_search.predict(features_test)\n",
    "test_predictions\n"
   ]
  },
  {
   "cell_type": "code",
   "execution_count": 13,
   "id": "9327bb01",
   "metadata": {},
   "outputs": [],
   "source": [
    "# Add the predictions to the test data\n",
    "df_test['128'] = test_predictions\n"
   ]
  },
  {
   "cell_type": "code",
   "execution_count": 14,
   "id": "d8a564d2",
   "metadata": {},
   "outputs": [],
   "source": [
    "# Save the test data with the predictions as a csv file\n",
    "df_test.to_csv(r\"./TestingResultsBinary.csv\",index=False,header=False)\n"
   ]
  },
  {
   "cell_type": "markdown",
   "id": "c300a0de",
   "metadata": {},
   "source": [
    "## Task B"
   ]
  },
  {
   "cell_type": "markdown",
   "id": "5a5ccf2f",
   "metadata": {},
   "source": [
    "### Part 1: Data preprocessing\n",
    "We will load the data, split it into features and labels, and shuffle it to ensure randomness"
   ]
  },
  {
   "cell_type": "code",
   "execution_count": 15,
   "id": "41ecc08f",
   "metadata": {},
   "outputs": [],
   "source": [
    "# Load the data\n",
    "data_train_multi = pd.read_csv('TrainingDataMulti.csv', header=None)\n",
    "data_test_multi = pd.read_csv('TestingDataMulti.csv', header=None)\n"
   ]
  },
  {
   "cell_type": "code",
   "execution_count": 16,
   "id": "1566a005",
   "metadata": {},
   "outputs": [],
   "source": [
    "# Shuffle and split the data into features and labels\n",
    "train_data_multi = data_train_multi.values\n",
    "random.shuffle(train_data_multi)\n",
    "X_train_multi = train_data_multi[:, 0:-1]\n",
    "y_train_multi = train_data_multi[:, -1]\n",
    "test_data_multi = data_test_multi.values\n",
    "x_test_multi = test_data_multi\n"
   ]
  },
  {
   "cell_type": "code",
   "execution_count": 17,
   "id": "5644c066",
   "metadata": {},
   "outputs": [],
   "source": [
    "# Split the data into a training set and a validation set\n",
    "X_train_multi, X_valid_multi, y_train_multi, y_valid_multi = train_test_split(X_train_multi, y_train_multi, test_size=0.2, random_state=50)\n"
   ]
  },
  {
   "cell_type": "markdown",
   "id": "661de154",
   "metadata": {},
   "source": [
    "### Part 2: Model creation and parameter optimization\n",
    "We create a random forest classifier and use GridSearchCV to find the best parameters"
   ]
  },
  {
   "cell_type": "code",
   "execution_count": 18,
   "id": "46982346",
   "metadata": {},
   "outputs": [],
   "source": [
    "# Define the random forest classifier and the parameter grid\n",
    "rf_multi = RandomForestClassifier(random_state=42)\n",
    "param_grid_rf_multi = {'n_estimators': [500, 1000, 1500], 'min_samples_leaf': [1, 2, 3]}\n"
   ]
  },
  {
   "cell_type": "code",
   "execution_count": 19,
   "id": "ebc8278b",
   "metadata": {},
   "outputs": [
    {
     "data": {
      "text/html": [
       "<style>#sk-container-id-2 {color: black;background-color: white;}#sk-container-id-2 pre{padding: 0;}#sk-container-id-2 div.sk-toggleable {background-color: white;}#sk-container-id-2 label.sk-toggleable__label {cursor: pointer;display: block;width: 100%;margin-bottom: 0;padding: 0.3em;box-sizing: border-box;text-align: center;}#sk-container-id-2 label.sk-toggleable__label-arrow:before {content: \"▸\";float: left;margin-right: 0.25em;color: #696969;}#sk-container-id-2 label.sk-toggleable__label-arrow:hover:before {color: black;}#sk-container-id-2 div.sk-estimator:hover label.sk-toggleable__label-arrow:before {color: black;}#sk-container-id-2 div.sk-toggleable__content {max-height: 0;max-width: 0;overflow: hidden;text-align: left;background-color: #f0f8ff;}#sk-container-id-2 div.sk-toggleable__content pre {margin: 0.2em;color: black;border-radius: 0.25em;background-color: #f0f8ff;}#sk-container-id-2 input.sk-toggleable__control:checked~div.sk-toggleable__content {max-height: 200px;max-width: 100%;overflow: auto;}#sk-container-id-2 input.sk-toggleable__control:checked~label.sk-toggleable__label-arrow:before {content: \"▾\";}#sk-container-id-2 div.sk-estimator input.sk-toggleable__control:checked~label.sk-toggleable__label {background-color: #d4ebff;}#sk-container-id-2 div.sk-label input.sk-toggleable__control:checked~label.sk-toggleable__label {background-color: #d4ebff;}#sk-container-id-2 input.sk-hidden--visually {border: 0;clip: rect(1px 1px 1px 1px);clip: rect(1px, 1px, 1px, 1px);height: 1px;margin: -1px;overflow: hidden;padding: 0;position: absolute;width: 1px;}#sk-container-id-2 div.sk-estimator {font-family: monospace;background-color: #f0f8ff;border: 1px dotted black;border-radius: 0.25em;box-sizing: border-box;margin-bottom: 0.5em;}#sk-container-id-2 div.sk-estimator:hover {background-color: #d4ebff;}#sk-container-id-2 div.sk-parallel-item::after {content: \"\";width: 100%;border-bottom: 1px solid gray;flex-grow: 1;}#sk-container-id-2 div.sk-label:hover label.sk-toggleable__label {background-color: #d4ebff;}#sk-container-id-2 div.sk-serial::before {content: \"\";position: absolute;border-left: 1px solid gray;box-sizing: border-box;top: 0;bottom: 0;left: 50%;z-index: 0;}#sk-container-id-2 div.sk-serial {display: flex;flex-direction: column;align-items: center;background-color: white;padding-right: 0.2em;padding-left: 0.2em;position: relative;}#sk-container-id-2 div.sk-item {position: relative;z-index: 1;}#sk-container-id-2 div.sk-parallel {display: flex;align-items: stretch;justify-content: center;background-color: white;position: relative;}#sk-container-id-2 div.sk-item::before, #sk-container-id-2 div.sk-parallel-item::before {content: \"\";position: absolute;border-left: 1px solid gray;box-sizing: border-box;top: 0;bottom: 0;left: 50%;z-index: -1;}#sk-container-id-2 div.sk-parallel-item {display: flex;flex-direction: column;z-index: 1;position: relative;background-color: white;}#sk-container-id-2 div.sk-parallel-item:first-child::after {align-self: flex-end;width: 50%;}#sk-container-id-2 div.sk-parallel-item:last-child::after {align-self: flex-start;width: 50%;}#sk-container-id-2 div.sk-parallel-item:only-child::after {width: 0;}#sk-container-id-2 div.sk-dashed-wrapped {border: 1px dashed gray;margin: 0 0.4em 0.5em 0.4em;box-sizing: border-box;padding-bottom: 0.4em;background-color: white;}#sk-container-id-2 div.sk-label label {font-family: monospace;font-weight: bold;display: inline-block;line-height: 1.2em;}#sk-container-id-2 div.sk-label-container {text-align: center;}#sk-container-id-2 div.sk-container {/* jupyter's `normalize.less` sets `[hidden] { display: none; }` but bootstrap.min.css set `[hidden] { display: none !important; }` so we also need the `!important` here to be able to override the default hidden behavior on the sphinx rendered scikit-learn.org. See: https://github.com/scikit-learn/scikit-learn/issues/21755 */display: inline-block !important;position: relative;}#sk-container-id-2 div.sk-text-repr-fallback {display: none;}</style><div id=\"sk-container-id-2\" class=\"sk-top-container\"><div class=\"sk-text-repr-fallback\"><pre>GridSearchCV(cv=5, estimator=RandomForestClassifier(random_state=42), n_jobs=-1,\n",
       "             param_grid={&#x27;min_samples_leaf&#x27;: [1, 2, 3],\n",
       "                         &#x27;n_estimators&#x27;: [500, 1000, 1500]})</pre><b>In a Jupyter environment, please rerun this cell to show the HTML representation or trust the notebook. <br />On GitHub, the HTML representation is unable to render, please try loading this page with nbviewer.org.</b></div><div class=\"sk-container\" hidden><div class=\"sk-item sk-dashed-wrapped\"><div class=\"sk-label-container\"><div class=\"sk-label sk-toggleable\"><input class=\"sk-toggleable__control sk-hidden--visually\" id=\"sk-estimator-id-5\" type=\"checkbox\" ><label for=\"sk-estimator-id-5\" class=\"sk-toggleable__label sk-toggleable__label-arrow\">GridSearchCV</label><div class=\"sk-toggleable__content\"><pre>GridSearchCV(cv=5, estimator=RandomForestClassifier(random_state=42), n_jobs=-1,\n",
       "             param_grid={&#x27;min_samples_leaf&#x27;: [1, 2, 3],\n",
       "                         &#x27;n_estimators&#x27;: [500, 1000, 1500]})</pre></div></div></div><div class=\"sk-parallel\"><div class=\"sk-parallel-item\"><div class=\"sk-item\"><div class=\"sk-label-container\"><div class=\"sk-label sk-toggleable\"><input class=\"sk-toggleable__control sk-hidden--visually\" id=\"sk-estimator-id-6\" type=\"checkbox\" ><label for=\"sk-estimator-id-6\" class=\"sk-toggleable__label sk-toggleable__label-arrow\">estimator: RandomForestClassifier</label><div class=\"sk-toggleable__content\"><pre>RandomForestClassifier(random_state=42)</pre></div></div></div><div class=\"sk-serial\"><div class=\"sk-item\"><div class=\"sk-estimator sk-toggleable\"><input class=\"sk-toggleable__control sk-hidden--visually\" id=\"sk-estimator-id-7\" type=\"checkbox\" ><label for=\"sk-estimator-id-7\" class=\"sk-toggleable__label sk-toggleable__label-arrow\">RandomForestClassifier</label><div class=\"sk-toggleable__content\"><pre>RandomForestClassifier(random_state=42)</pre></div></div></div></div></div></div></div></div></div></div>"
      ],
      "text/plain": [
       "GridSearchCV(cv=5, estimator=RandomForestClassifier(random_state=42), n_jobs=-1,\n",
       "             param_grid={'min_samples_leaf': [1, 2, 3],\n",
       "                         'n_estimators': [500, 1000, 1500]})"
      ]
     },
     "execution_count": 19,
     "metadata": {},
     "output_type": "execute_result"
    }
   ],
   "source": [
    "# Use GridSearchCV to find the best parameters\n",
    "grid_search_multi = GridSearchCV(rf_multi, param_grid=param_grid_rf_multi, cv=5, n_jobs=-1)\n",
    "grid_search_multi.fit(X_train_multi, y_train_multi)\n"
   ]
  },
  {
   "cell_type": "code",
   "execution_count": 20,
   "id": "33c16f3a",
   "metadata": {},
   "outputs": [
    {
     "name": "stdout",
     "output_type": "stream",
     "text": [
      "Best parameters: {'min_samples_leaf': 1, 'n_estimators': 1000}\n"
     ]
    }
   ],
   "source": [
    "# Print the best parameters\n",
    "print(\"Best parameters: {}\".format(grid_search_multi.best_params_))\n"
   ]
  },
  {
   "cell_type": "markdown",
   "id": "de4a0508",
   "metadata": {},
   "source": [
    "### Part 3: Model evaluation\n",
    "We evaluate the model on the validation set and print the scores"
   ]
  },
  {
   "cell_type": "code",
   "execution_count": 21,
   "id": "0ccd4865",
   "metadata": {},
   "outputs": [
    {
     "name": "stdout",
     "output_type": "stream",
     "text": [
      "Validation set score: 0.97\n"
     ]
    }
   ],
   "source": [
    "# Print the score of the best model on the validation set\n",
    "print(\"Validation set score: {:.2f}\".format(grid_search_multi.score(X_valid_multi, y_valid_multi)))\n"
   ]
  },
  {
   "cell_type": "code",
   "execution_count": 22,
   "id": "c374e9db",
   "metadata": {},
   "outputs": [
    {
     "name": "stdout",
     "output_type": "stream",
     "text": [
      "Precision: 0.98\n",
      "Recall: 0.97\n",
      "F1-Score: 0.97\n",
      "Accuracy: 0.97\n"
     ]
    }
   ],
   "source": [
    "# Make predictions on the validation set and calculate the precision, recall, f1-score, and accuracy\n",
    "predictions_multi = grid_search_multi.predict(X_valid_multi)\n",
    "print (\"Precision: {:.2f}\".format(precision_score(y_valid_multi, predictions_multi, average='macro')))\n",
    "print (\"Recall: {:.2f}\".format(recall_score(y_valid_multi, predictions_multi, average='macro')))\n",
    "print (\"F1-Score: {:.2f}\".format(f1_score(y_valid_multi, predictions_multi, average='macro')))\n",
    "print (\"Accuracy: {:.2f}\".format(accuracy_score(y_valid_multi, predictions_multi)))\n"
   ]
  },
  {
   "cell_type": "code",
   "execution_count": 23,
   "id": "aaf78596",
   "metadata": {},
   "outputs": [
    {
     "data": {
      "image/png": "[encoded data removed]",
      "text/plain": [
       "<Figure size 640x480 with 2 Axes>"
      ]
     },
     "metadata": {},
     "output_type": "display_data"
    }
   ],
   "source": [
    "# Show the confusion matrix\n",
    "cm_multi = confusion_matrix(y_valid_multi, predictions_multi, labels=grid_search_multi.classes_)\n",
    "disp_multi = ConfusionMatrixDisplay(confusion_matrix=cm_multi, display_labels=grid_search_multi.classes_)\n",
    "disp_multi.plot()\n",
    "plt.show()\n"
   ]
  },
  {
   "cell_type": "markdown",
   "id": "c037e5a9",
   "metadata": {},
   "source": [
    "### Part 4: Predictions and result saving\n",
    "We will use the best model to make predictions on the test set, add the predictions to the test data, and save the data as a csv file"
   ]
  },
  {
   "cell_type": "code",
   "execution_count": 24,
   "id": "5a0344cc",
   "metadata": {},
   "outputs": [
    {
     "data": {
      "text/plain": [
       "array([2., 2., 2., 2., 2., 2., 2., 2., 2., 2., 2., 1., 1., 1., 1., 1., 2.,\n",
       "       1., 1., 1., 1., 1., 1., 1., 1., 1., 2., 2., 2., 2., 2., 2., 2., 1.,\n",
       "       1., 1., 1., 1., 1., 1., 1., 2., 2., 2., 2., 2., 2., 2., 2., 1., 1.,\n",
       "       1., 1., 1., 2., 2., 2., 1., 1., 2., 1., 1., 1., 1., 1., 1., 0., 0.,\n",
       "       0., 0., 0., 0., 0., 0., 0., 0., 0., 0., 0., 0., 0., 0., 0., 0., 1.,\n",
       "       1., 1., 1., 1., 1., 1., 0., 0., 0., 0., 0., 0., 0., 0., 0.])"
      ]
     },
     "execution_count": 24,
     "metadata": {},
     "output_type": "execute_result"
    }
   ],
   "source": [
    "# Make predictions on the test set\n",
    "test_predictions_multi = grid_search_multi.predict(x_test_multi)\n",
    "test_predictions_multi"
   ]
  },
  {
   "cell_type": "code",
   "execution_count": 25,
   "id": "a4e524f7",
   "metadata": {},
   "outputs": [],
   "source": [
    "# Add the predictions to the test data\n",
    "data_test_multi['128'] = test_predictions_multi"
   ]
  },
  {
   "cell_type": "code",
   "execution_count": 26,
   "id": "fc1f8629",
   "metadata": {},
   "outputs": [],
   "source": [
    "# Save the test data with the predictions as a csv file\n",
    "data_test_multi.to_csv(r\"./TestingResultsMulti.csv\",index=False,header=False)"
   ]
  }
 ],
 "metadata": {
  "kernelspec": {
   "display_name": "Python 3 (ipykernel)",
   "language": "python",
   "name": "python3"
  },
  "language_info": {
   "codemirror_mode": {
    "name": "ipython",
    "version": 3
   },
   "file_extension": ".py",
   "mimetype": "text/x-python",
   "name": "python",
   "nbconvert_exporter": "python",
   "pygments_lexer": "ipython3",
   "version": "3.10.11"
  }
 },
 "nbformat": 4,
 "nbformat_minor": 5
}
